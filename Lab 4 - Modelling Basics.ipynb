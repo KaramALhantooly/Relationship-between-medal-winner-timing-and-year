{
 "cells": [
  {
   "cell_type": "markdown",
   "metadata": {},
   "source": [
    "<div style=\"dir:rtl;text-align:center\">\n",
    "\n",
    "# أساسيات بناء النموذج"
   ]
  },
  {
   "cell_type": "markdown",
   "metadata": {},
   "source": [
    "<div style=\"dir:rtl;text-align:right\">\n",
    "     بعد أن اطلعنا على أهم العمليات التي تسبق النمذجة: الحصول على البيانات، قرائتها، تنظيفها واستكشافها، نتحدث في هذا الدرس عن ماهية النمذجة واللبنات الأساسية لفهم عملية بناء نموذج يلائم البيانات التي بحوزتنا والهدف الذي نحاول تحقيقه.   بنهاية هذا الدرس، ستتعرف على كل من التالي: (1) ماهو معنى النموذج ؟ (2) كيف نبني النموذج المناسب ؟ (3) ماهو الفرق بين  الانحدار والتصنيف ؟ (4) ماهي دالة الفرق ؟ (5) كيف نستخدم بايثون للعثور على أفضل المتغيرات التي تحقق لنا أقل قيمة ممكنة في دالة الفرق؟"
   ]
  },
  {
   "cell_type": "markdown",
   "metadata": {},
   "source": [
    "<div style='direction:rtl;text-align:right;'>  \n",
    "    \n",
    "# النمذجة  (Modelling)   "
   ]
  },
  {
   "cell_type": "markdown",
   "metadata": {},
   "source": [
    "<div style='direction:rtl;text-align:right;'>  \n",
    "ماذا نعني بالنمذجة ؟ الهدف من تعلم الآلة هو بناء نموذج أو معادلة رياضية مرنة نعطيها المدخلات وتعطينا النتيجة. لنفترض أننا نريد توقع سعر المنزل بناء على عدد الغرف فيه. مانريد أن نصل إليه في نهاية المطاف هو نموذج رياضي نعطيه عدد الغرف ومن ثم يخبرنا بسعر المنزل المتوقع. ولكن كيف للنموذج أن يعرف السعر أو النتيجة ؟  هنا يأتي دور التعلم (ولاحظ أننا نتحدث دائماً عن *تعلم* الآلة). ما نعنيه بالتعلم هو أننا سنعطي النموذج مجموعة من الأمثلة أو البيانات التي يوجد بها عدد الغرف وسعر المنزل، وسيقوم النموذج بإجراء العديد من العمليات التي تمكنه من تعلم العلاقة بين عدد الغرف وسعر المنزل. هذه العلاقة هي التي نستخدمها لاحقاً في توقع سعر المنزل بناء على عدد الغرف."
   ]
  },
  {
   "cell_type": "markdown",
   "metadata": {},
   "source": [
    "<div style='direction:rtl;text-align:right;'>  \n",
    "    \n",
    "# أنواع التعلم"
   ]
  },
  {
   "cell_type": "markdown",
   "metadata": {},
   "source": [
    "<div style='direction:rtl;text-align:right;'>  \n",
    "تعلم الآلة ينقسم عموماً إلى ثلاثة أنواع: التعلم بالإشراف (supervised learning)، والتعلم غير المشرف عليه (unsupervised learning) وأخيراً التعلم بالتعزيز (reinforcement learning). لن نتحدث في هذا المساق إلا عن النوعين الأول والثاني وذلك لأن الثالث له مسار مختلف تماماً وتطبيقات مختلفة تماماً. <br>    \n",
    "التعلم المشرف عليه بكل بساطة يقوم على فكرة وجود بيانات بالإضافة إلى جواب ما نريد أن نعرف العلاقة بينه وبين البيانات. فمثلاً في المثال السابق، ذكرنا أننا نريد أن نعرف سعر المنزل بناء على عدد الغرف. بناء النموذج يعني أننا سنقوم بتدريب النموذج على مجموعة من البيانات التي نعرف فيها عدد الغرف و سعر المنزل. بهذه الطريقة، نعطي النموذج الفرصة لكي يعرف العلاقة بين الاثنين. <br>\n",
    "ينقسم التعلم بالإشراف إلى قسمين: الانحدار (Regression) والتصنيف Classification. في الانحدار، يكون الجواب فيها عبارة عن قيمة أو رقم مثلا سعر المنزل أو عمر الشخص أو الرصيد البنكي. أما في حالة التصنيف، فيكون الجواب عبارة عن صنف أو مجموعة وليس عن رقم محدد. فمثلاً، لو كان لدينا بيانات عبارة عن بيانات المريض مثل العمر والمستويات الحيوية  ولدينا بالمقابل نوع المرض أو التشخيص ونريد أن نعرف العلاقة بين العلامات الحيوية والتشخيص. هذه المشكلة هي تصنيف، وذلك لأننا نطمح في النهاية إلى إعطاء النموذج مجموعة علامات حيوية ونطلب تشخيصاً ما بناء على هذه البيانات."
   ]
  },
  {
   "cell_type": "markdown",
   "metadata": {},
   "source": [
    "<div style='direction:rtl;text-align:right;'>  \n",
    "\n",
    "## الانحدار الخطي Linear Regression"
   ]
  },
  {
   "cell_type": "markdown",
   "metadata": {},
   "source": [
    "<div style='direction:rtl;text-align:right;'>  \n",
    "الانحدار الخطي هو أحد أكثر أنواع التحليل والنمذجة شيوعاً وانتشاراً حتى في أكثر التطبيقات المتقدمة للذكاء الصناعي. تقوم فكرة الانحدار الخطي على الاستعانة بعدة معلومات لتوقع نتيجة معينة بأكبر قدر ممكن من الصحة. فمثلاً، لو كان لدينا معلومات عن كل طالب (مثل الجنس، العمر، عدد أفراد العائلة، الوزن، الى اخره) ونريد توقع التفوق الدراسي، ففي هذه الحالة سنستخدم تحليل الانحدار الخطي لاستخراج هذه العلاقة. <br>"
   ]
  },
  {
   "cell_type": "markdown",
   "metadata": {},
   "source": [
    "<div style='direction:rtl;text-align:right;'>  \n",
    "لتحليل الانحدار الخطي، لنفترض جدلاً أن لدينا معلومة واحدة فقط هي معدل الساعات الدراسية أسبوعياً ونريد من خلالها توقع الدرجات الدراسية. في هذه الحالة يمكننا كتابة العلاقة بالشكل التالي:"
   ]
  },
  {
   "cell_type": "markdown",
   "metadata": {},
   "source": [
    "$$ Grades = AvgStudyHours * b + a $$"
   ]
  },
  {
   "cell_type": "markdown",
   "metadata": {},
   "source": [
    "<div style='direction:rtl;text-align:right;'>  \n",
    "حيث أن $b$ يمثل ميل الخط المستقيم بينما $a$ تمثل تقاطع الخط عند المحور الصادي. هذه المعادلة هي معادلة الخط المستقيم والتي من خلالها نستطيع وصف أي خط مستقيم باستخدام الميل والتقاطع عند المحور الصادي. لكن مبدئياً نحن نريد إيجاد أفضل قيم ممكنة لهذين المتغيرين تمكننا من توقع درجات العينة."
   ]
  },
  {
   "cell_type": "markdown",
   "metadata": {},
   "source": [
    "<div style='direction:rtl;text-align:right;'>  \n",
    "\n",
    "## مثال تطبيقي"
   ]
  },
  {
   "cell_type": "markdown",
   "metadata": {},
   "source": [
    "<div style='direction:rtl;text-align:right;'>  \n",
    "لنأخذ بيانات توقيت الفائزين بالميدالية الذهبية في سباق الألمبياد على مدى السنين (١٨٩٦ - ٢٠١٢)، هل هناك علاقة بين السنة والوقت الذي استطاع فيه المركز الأول إنهاء السباق؟ \n",
    "كما نرى، هذه المشكلة تدرس العلاقة بين السنة والوقت الذي تم فيه السباق. نريد أن نبني نموذجا رياضيا يخبرنا بوجود أي علاقة بين هذين المتغيرين. <br> \n",
    "نبدأ أولا بتحميل البيانات. سنأخذ وقت السباق كالمتغير الهدف y وسنة السباق الخاصية الوحيدة التي لدينا."
   ]
  },
  {
   "cell_type": "code",
   "execution_count": 7,
   "metadata": {},
   "outputs": [],
   "source": [
    "# تحميل الحزم والمكتبات اللازمة\n",
    "import numpy as np\n",
    "import matplotlib.pyplot as plt\n",
    "import io\n",
    "\n",
    "# لتضمين المخططات البيانية في الخلية\n",
    "%matplotlib inline\n"
   ]
  },
  {
   "cell_type": "code",
   "execution_count": 10,
   "metadata": {},
   "outputs": [],
   "source": [
    "# بيانات الألمبياد تتكون من السنة، الوقت\n",
    "olympic_data = \"\"\"1896,4.47083333333333\n",
    "1900,4.46472925981123\n",
    "1904,5.22208333333333\n",
    "1908,4.1546786744085\n",
    "1912,3.90331674958541\n",
    "1920,3.5695126705653\n",
    "1924,3.8245447722874\n",
    "1928,3.62483706600308\n",
    "1932,3.59284275388079\n",
    "1936,3.53880791562981\n",
    "1948,3.6701030927835\n",
    "1952,3.39029110874116\n",
    "1956,3.43642611683849\n",
    "1960,3.2058300746534\n",
    "1964,3.13275664573212\n",
    "1968,3.32819844373346\n",
    "1972,3.13583757949204\n",
    "1976,3.07895880238575\n",
    "1980,3.10581822490816\n",
    "1984,3.06552909112454\n",
    "1988,3.09357348817\n",
    "1992,3.16111703598373\n",
    "1996,3.14255243512264\n",
    "2000,3.08527866650867\n",
    "2004,3.1026582928467\n",
    "2008,2.99877552632618\n",
    "2012,3.03392977050993\"\"\"\n",
    "\n",
    "# نقرأ البيانات إلى مصفوفة نمبي\n",
    "olympics = np.genfromtxt(io.BytesIO(olympic_data.encode()), delimiter=\",\")"
   ]
  },
  {
   "cell_type": "code",
   "execution_count": 11,
   "metadata": {},
   "outputs": [],
   "source": [
    "x = olympics[:, 0:1]\n",
    "y = olympics[:, 1:2]"
   ]
  },
  {
   "cell_type": "code",
   "execution_count": 4,
   "metadata": {},
   "outputs": [
    {
     "data": {
      "image/png": "[encoded data removed]",
      "text/plain": [
       "<Figure size 432x288 with 1 Axes>"
      ]
     },
     "metadata": {
      "needs_background": "light"
     },
     "output_type": "display_data"
    }
   ],
   "source": [
    "plt.plot(x, y, 'rx')\n",
    "plt.ylabel(\"y (Winner Timing)\")\n",
    "plt.xlabel(\"x (Year of Race)\")\n",
    "plt.show()"
   ]
  },
  {
   "cell_type": "markdown",
   "metadata": {},
   "source": [
    "<div style='direction:rtl;text-align:right;'>  \n",
    "كما نرى من المخطط البياني، هناك علاقة بين المتغيرين ويستطيع نموذج خطي بسيط ملائمتها إلى حد كبير. \n",
    "\n",
    "<div style='direction:rtl;text-align:right;'>  \n",
    "    يمكنك استخدام sklearn لحل مشكلات الانحدار الخطي التي ستواجهها في المستقبل. باستخدام وحدة LinearRegression ، نستطيع بناء نموذج الانحدار الخطي في سطر واحد كما هو موضح أدناه."
   ]
  },
  {
   "cell_type": "code",
   "execution_count": 5,
   "metadata": {},
   "outputs": [
    {
     "data": {
      "image/png": "[encoded data removed]",
      "text/plain": [
       "<Figure size 432x288 with 1 Axes>"
      ]
     },
     "metadata": {
      "needs_background": "light"
     },
     "output_type": "display_data"
    }
   ],
   "source": [
    "from sklearn.linear_model import LinearRegression\n",
    "lr = LinearRegression().fit(x, y)\n",
    "\n",
    "plt.scatter(x, y)\n",
    "plt.plot(x, lr.predict(x),color='r')\n",
    "\n",
    "plt.show()"
   ]
  },
  {
   "cell_type": "markdown",
   "metadata": {},
   "source": [
    "<div style=\"direction:rtl;text-align:right\">\n",
    "وشكراً لمتابعتكم"
   ]
  }
 ],
 "metadata": {
  "kernelspec": {
   "display_name": "Python 3 (ipykernel)",
   "language": "python",
   "name": "python3"
  },
  "language_info": {
   "codemirror_mode": {
    "name": "ipython",
    "version": 3
   },
   "file_extension": ".py",
   "mimetype": "text/x-python",
   "name": "python",
   "nbconvert_exporter": "python",
   "pygments_lexer": "ipython3",
   "version": "3.9.7"
  }
 },
 "nbformat": 4,
 "nbformat_minor": 2
}
